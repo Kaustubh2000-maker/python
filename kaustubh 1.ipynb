{
 "cells": [
  {
   "cell_type": "code",
   "execution_count": 1,
   "id": "909e179d",
   "metadata": {},
   "outputs": [
    {
     "name": "stdout",
     "output_type": "stream",
     "text": [
      "hello world\n"
     ]
    }
   ],
   "source": [
    "print(\"hello world\")"
   ]
  },
  {
   "cell_type": "code",
   "execution_count": 2,
   "id": "0acf9237",
   "metadata": {},
   "outputs": [
    {
     "name": "stdout",
     "output_type": "stream",
     "text": [
      "kaustubh chaudhari\n"
     ]
    }
   ],
   "source": [
    "print('kaustubh chaudhari')"
   ]
  },
  {
   "cell_type": "code",
   "execution_count": 3,
   "id": "2350872c",
   "metadata": {
    "scrolled": true
   },
   "outputs": [
    {
     "ename": "NameError",
     "evalue": "name 'Print' is not defined",
     "output_type": "error",
     "traceback": [
      "\u001b[1;31m---------------------------------------------------------------------------\u001b[0m",
      "\u001b[1;31mNameError\u001b[0m                                 Traceback (most recent call last)",
      "\u001b[1;32mC:\\Users\\KAUSTU~1\\AppData\\Local\\Temp/ipykernel_6184/677519452.py\u001b[0m in \u001b[0;36m<module>\u001b[1;34m\u001b[0m\n\u001b[1;32m----> 1\u001b[1;33m \u001b[0mPrint\u001b[0m\u001b[1;33m(\u001b[0m\u001b[1;34m\"hello world\"\u001b[0m\u001b[1;33m)\u001b[0m\u001b[1;33m\u001b[0m\u001b[1;33m\u001b[0m\u001b[0m\n\u001b[0m",
      "\u001b[1;31mNameError\u001b[0m: name 'Print' is not defined"
     ]
    }
   ],
   "source": [
    "Print(\"hello world\")"
   ]
  },
  {
   "cell_type": "markdown",
   "id": "ab9247c1",
   "metadata": {},
   "source": [
    "### it should be written as print not Print\n"
   ]
  },
  {
   "cell_type": "markdown",
   "id": "3b6ae422",
   "metadata": {},
   "source": [
    "#### it should be written as print not Print"
   ]
  },
  {
   "cell_type": "markdown",
   "id": "9048f0ca",
   "metadata": {},
   "source": [
    "##### it should be written as print not Print"
   ]
  },
  {
   "cell_type": "markdown",
   "id": "448942da",
   "metadata": {},
   "source": [
    "## it should be written as print not Print"
   ]
  },
  {
   "cell_type": "markdown",
   "id": "31516737",
   "metadata": {},
   "source": [
    "# it should be written as print not Print"
   ]
  },
  {
   "cell_type": "code",
   "execution_count": 6,
   "id": "aa76cd40",
   "metadata": {
    "scrolled": true
   },
   "outputs": [
    {
     "name": "stdout",
     "output_type": "stream",
     "text": [
      "welcome to analytics cource\n"
     ]
    }
   ],
   "source": [
    "print(\"welcome to analytics cource\")"
   ]
  },
  {
   "cell_type": "markdown",
   "id": "40ba4ed1",
   "metadata": {},
   "source": [
    "### data type"
   ]
  },
  {
   "cell_type": "code",
   "execution_count": 7,
   "id": "f1d9239d",
   "metadata": {},
   "outputs": [
    {
     "name": "stdout",
     "output_type": "stream",
     "text": [
      "100\n"
     ]
    }
   ],
   "source": [
    "x=100\n",
    "print(x)"
   ]
  },
  {
   "cell_type": "code",
   "execution_count": null,
   "id": "a64ff1c0",
   "metadata": {},
   "outputs": [],
   "source": []
  }
 ],
 "metadata": {
  "kernelspec": {
   "display_name": "Python 3 (ipykernel)",
   "language": "python",
   "name": "python3"
  },
  "language_info": {
   "codemirror_mode": {
    "name": "ipython",
    "version": 3
   },
   "file_extension": ".py",
   "mimetype": "text/x-python",
   "name": "python",
   "nbconvert_exporter": "python",
   "pygments_lexer": "ipython3",
   "version": "3.9.7"
  }
 },
 "nbformat": 4,
 "nbformat_minor": 5
}
